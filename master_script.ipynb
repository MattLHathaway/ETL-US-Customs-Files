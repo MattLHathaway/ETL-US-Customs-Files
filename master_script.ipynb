{
 "cells": [
  {
   "cell_type": "markdown",
   "metadata": {},
   "source": [
    "MASTER SCRIPT"
   ]
  },
  {
   "cell_type": "markdown",
   "metadata": {},
   "source": [
    "THIS SCRIPT RUNS ALL CLEANING SCRIPTS"
   ]
  },
  {
   "cell_type": "code",
   "execution_count": null,
   "metadata": {},
   "outputs": [],
   "source": [
    "import subprocess\n",
    "import sys\n",
    "import os\n",
    "import importnb\n",
    "from importnb import Notebook\n",
    "with Notebook():\n",
    "    import cargodesc_18_cleaning_script\n",
    "    import cargodesc_19_cleaning_script\n",
    "    import cargodesc_20_cleaning_script\n",
    "    import container_18_cleaning_script.ipynb\n",
    "    import container_19_cleaning_script.ipynb\n",
    "    import container_20_cleaning_script.ipynb\n",
    "    import shipper_18_cleaning_script.ipynb\n",
    "    import shipper_19_cleaning_script.ipynb\n",
    "    import shipper_20_cleaning_script.ipynb\n",
    "    import header_18_cleaning_script.ipynb\n",
    "    import header_19_cleaning_script.ipynb\n",
    "    import header_20_cleaning_script.ipynb\n",
    "\n",
    "\n",
    "# Run From Same Folder as Other Files are Located\n",
    "os.system('python3 cargodesc_18_cleaning_script.ipynb')\n",
    "os.system('python3 cargodesc_19_cleaning_script.ipynb')\n",
    "os.system('python3 cargodesc_20_cleaning_script.ipynb')\n",
    "os.system('python3 container_18_cleaning_script.ipynb')\n",
    "os.system('python3 container_19_cleaning_script.ipynb')\n",
    "os.system('python3 container_20_cleaning_script.ipynb')\n",
    "os.system('python3 shipper_18_cleaning_script.ipynb')\n",
    "os.system('python3 shipper_19_cleaning_script.ipynb')\n",
    "os.system('python3 shipper_20_cleaning_script.ipynb')\n",
    "os.system('python3 header_18_cleaning_script.ipynb')\n",
    "os.system('python3 header_19_cleaning_script.ipynb')\n",
    "os.system('python3 header_20_cleaning_script.ipynb')"
   ]
  }
 ],
 "metadata": {
  "kernelspec": {
   "display_name": "Python 3.10.7 64-bit",
   "language": "python",
   "name": "python3"
  },
  "language_info": {
   "codemirror_mode": {
    "name": "ipython",
    "version": 3
   },
   "file_extension": ".py",
   "mimetype": "text/x-python",
   "name": "python",
   "nbconvert_exporter": "python",
   "pygments_lexer": "ipython3",
   "version": "3.10.7"
  },
  "orig_nbformat": 4,
  "vscode": {
   "interpreter": {
    "hash": "aee8b7b246df8f9039afb4144a1f6fd8d2ca17a180786b69acc140d282b71a49"
   }
  }
 },
 "nbformat": 4,
 "nbformat_minor": 2
}
